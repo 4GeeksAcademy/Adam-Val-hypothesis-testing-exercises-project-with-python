{
 "cells": [
  {
   "cell_type": "markdown",
   "id": "d9d036c6",
   "metadata": {},
   "source": [
    "# Hypothesis testing problems"
   ]
  },
  {
   "cell_type": "markdown",
   "id": "d157c4db",
   "metadata": {},
   "source": [
    "## Exercise 1\n",
    "\n",
    "You are a nutritionist researching two different types of diets to see if there is a significant difference in weight loss after one month. You choose two random groups of people; one group follows the first diet, and the other follows the second. At the end of the month, you record the weight loss (in kg) for each person:\n",
    "\n",
    "| Diet 1 | Diet 2 |\n",
    "|:-------|:-------|\n",
    "| 2.0 | 3.0 |\n",
    "| 2.5 | 3.2 |\n",
    "| 3.0 | 3.1 |\n",
    "| 2.8 | 2.9 |\n",
    "| 2.3 | 2.8 |\n",
    "| 2.7 | 3.0 |\n",
    "| 2.5 | 3.2 |\n",
    "\n",
    "With these data, it seeks to answer the following question: Is there a significant difference in average weight loss between people who followed the first diet and those who followed the second diet?\n",
    "\n",
    "To draw conclusions, follow the points below:\n",
    "\n",
    "- State the hypothesis: null and alternative hypothesis.\n",
    "- Perform the test to test the hypothesis. You can use a Student's t-test.\n",
    "- Analyze the conclusions."
   ]
  },
  {
   "cell_type": "markdown",
   "id": "63edee0c",
   "metadata": {},
   "source": [
    "Null Hypothesis: There is no difference in average weight loss between the two diets.\n",
    "\n",
    "Alternative Hypothesis: There is a difference in average weight loss between the two diets. "
   ]
  },
  {
   "cell_type": "code",
   "execution_count": 4,
   "id": "8e0f3cf0",
   "metadata": {},
   "outputs": [
    {
     "name": "stdout",
     "output_type": "stream",
     "text": [
      "The p-value is; 0.004083270191713912.\n"
     ]
    }
   ],
   "source": [
    "#so we can use the function ttest_ind()\n",
    "import scipy.stats as stats \n",
    "\n",
    "#two lists \n",
    "diet_1 = [2.0, 2.5, 3.0, 2.8, 2.3, 2.7, 2.5]\n",
    "diet_2 = [3.0, 3.2, 3.1, 2.9, 2.8, 3.0, 3.2]\n",
    "\n",
    "#assigning the 2 t-test values from 2 data sets \n",
    "t_value, p_value = stats.ttest_ind(diet_1, diet_2)\n",
    "\n",
    "print(f\"The p-value is; {p_value}.\")\n"
   ]
  },
  {
   "cell_type": "markdown",
   "id": "b0e47134",
   "metadata": {},
   "source": [
    "The p-value is 0.04 is less than 5% / 0.05 therefore we reject the null hypothesis and come to the conclusion that there is a significant difference in weight loss between the two diets. \n",
    "\n",
    "If the p-value is above 5% we would accept the null hypothesis. "
   ]
  },
  {
   "cell_type": "markdown",
   "id": "f432e18e",
   "metadata": {},
   "source": [
    "## ANOVA\n",
    "\n",
    "**ANOVA** (*Analysis of Variance*) is a statistical technique used to compare the measures of two or more groups. The idea behind ANOVA is to decompose the total variability in the data into two components: between-group variability and within-group variability:\n",
    "\n",
    "- **Between-group variability**: This variability refers to the differences between the group means. If this variability is considerably larger than the within-group variability, it could be an indication that at least one of the group means is different.\n",
    "- **Within-group variability**: This variability refers to the dispersion of the data within each group. If all groups have similar variability, then any noticeable difference in group means could be considered significant.\n",
    "\n",
    "Hypotheses in ANOVA typically include:\n",
    "\n",
    "- **Null hypothesis** ($H₀$): The means of all groups are equal.\n",
    "- **Alternative hypothesis** ($H₁$): At least one of the group means is different.\n",
    "\n",
    "If the ANOVA test result is significant (e.g., a p-value less than a threshold such as 0.05), this suggests that at least one group mean is different."
   ]
  },
  {
   "cell_type": "markdown",
   "id": "fc5f3721",
   "metadata": {},
   "source": [
    "## Exercise 2\n",
    "\n",
    "A farmer decides to test three different types of fertilizers to determine if one is superior in terms of corn production. The farmer plants corn on 15 identical plots and uses all three fertilizers (5 plots for each type). At the end of the season, he measures the corn yield (in kg) of each plot, with the following result:\n",
    "\n",
    "| Fertilizer 1 | Fertilizer 2 | Fertilizer 3 |\n",
    "|:-------------|:-------------|:-------------|\n",
    "| 20 | 22 | 24 |\n",
    "| 21 | 21 | 23 |\n",
    "| 20 | 23 | 22 |\n",
    "| 19 | 22 | 23 |\n",
    "| 20 | 21 | 24 |\n",
    "\n",
    "With this data, he seeks to answer the following question: Is there a significant difference in average corn yield between the three types of fertilizers?\n",
    "\n",
    "To help you, follow the points below:\n",
    "\n",
    "- State the hypothesis: null and alternative hypothesis.\n",
    "- Perform the ANOVA test.\n",
    "- Analyze the conclusions.\n",
    "- If one fertilizer is better than another, how can we know it?"
   ]
  },
  {
   "cell_type": "markdown",
   "id": "3a7c8a47",
   "metadata": {},
   "source": [
    "Null Hypothesis:  The corn yield averages of three fertilizers are equal.\n",
    "\n",
    "Alternative Hypothesis: Atleast one of the fertilizer corn yield averages is different. "
   ]
  },
  {
   "cell_type": "code",
   "execution_count": 5,
   "id": "eecad0ca",
   "metadata": {},
   "outputs": [
    {
     "name": "stdout",
     "output_type": "stream",
     "text": [
      "The f-value is; 20.315789473684188.\n",
      "The p-value is; 0.00014047824793190472.\n"
     ]
    }
   ],
   "source": [
    "# list of fertilizers and their corresponding plot and yield of corn in kg\n",
    "fertilizer_1 = [20, 21, 20, 19, 20]\n",
    "fertilizer_2 = [22, 21, 23, 22, 21]\n",
    "fertilizer_3 = [24, 23, 22, 23, 24]\n",
    "\n",
    "# takes the data for each group as separate arguments \n",
    "f_value, p_value = stats.f_oneway(fertilizer_1, fertilizer_2, fertilizer_3)\n",
    "\n",
    "print(f\"The f-value is; {f_value}.\")\n",
    "print(f\"The p-value is; {p_value}.\")"
   ]
  },
  {
   "cell_type": "markdown",
   "id": "21c7e5b8",
   "metadata": {},
   "source": [
    "Conclusion; the value of less than 5% on the p-value means we reject that null hypothesis and conclude that Atleast one of the fertilizer corn yield averages is different. \n"
   ]
  },
  {
   "cell_type": "markdown",
   "id": "e66b4553",
   "metadata": {},
   "source": [
    "How to find the best fertilizer? \n",
    "\n",
    "We use a tukey test, it will calculate the means, calculate the differences between all means of the three groups, it adjusts for multiple comparisons and then we make our conclusion. \n",
    "\n",
    "\n",
    "\n"
   ]
  },
  {
   "cell_type": "code",
   "execution_count": 8,
   "id": "21e90cd5",
   "metadata": {},
   "outputs": [
    {
     "name": "stdout",
     "output_type": "stream",
     "text": [
      "Multiple Comparison of Means - Tukey HSD, FWER=0.05\n",
      "==================================================\n",
      "group1 group2 meandiff p-adj  lower  upper  reject\n",
      "--------------------------------------------------\n",
      "    F1     F2      1.8 0.0099 0.4572 3.1428   True\n",
      "    F1     F3      3.2 0.0001 1.8572 4.5428   True\n",
      "    F2     F3      1.4 0.0409 0.0572 2.7428   True\n",
      "--------------------------------------------------\n"
     ]
    }
   ],
   "source": [
    "# I need numpy so I can create an array\n",
    "import numpy as np \n",
    "\n",
    "# so I can use pairwise_tukeyhsd function from statsmodel library\n",
    "from statsmodels.stats.multicomp import pairwise_tukeyhsd\n",
    "\n",
    "# combining each list into an array called data, necessary for pairwise_tukeyhsd function\n",
    "data = np.concatenate([fertilizer_1, fertilizer_2, fertilizer_3])\n",
    "\n",
    "# creates a label for the 3 lists and assigning the first 5 elements to each list\n",
    "labels = [\"F1\"] * 5 + [\"F2\"] * 5 + [\"F3\"] * 5\n",
    "\n",
    "# perform Tukey HSD test, alpha = 0.05 is the statistical significance level \n",
    "Turkey_thanksgiving = pairwise_tukeyhsd(data, labels, alpha = 0.05)\n",
    "\n",
    "print(Turkey_thanksgiving)\n",
    "\n"
   ]
  },
  {
   "cell_type": "markdown",
   "id": "b7f2d097",
   "metadata": {},
   "source": [
    "1. group1 and group 2 column which fertilizer is being compared to which \n",
    "\n",
    "2. meandiff column is the number of units group 2 grew more than group 1 in that pair comparison\n",
    "\n",
    "3. p-adj is the adjusment made for the p-value, if it is more than 5% then we have to reject the difference result\n",
    "\n",
    "4. for reject column we say true if the p-adj value is less than 5% therefore \n",
    "the difference is real\n",
    "\n",
    "We can therefore conclude that F2 is better than F1\n",
    "F3 is way better than F1 \n",
    "and F3 is slightly better than F2 \n",
    "\n",
    "Therefore F3 is the best fertilizer and had the highest yield of corn crop in kg.\n"
   ]
  }
 ],
 "metadata": {
  "kernelspec": {
   "display_name": "Python 3",
   "language": "python",
   "name": "python3"
  },
  "language_info": {
   "codemirror_mode": {
    "name": "ipython",
    "version": 3
   },
   "file_extension": ".py",
   "mimetype": "text/x-python",
   "name": "python",
   "nbconvert_exporter": "python",
   "pygments_lexer": "ipython3",
   "version": "3.11.4"
  }
 },
 "nbformat": 4,
 "nbformat_minor": 5
}
